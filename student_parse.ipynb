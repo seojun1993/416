{
 "cells": [
  {
   "cell_type": "code",
   "execution_count": 24,
   "metadata": {},
   "outputs": [
    {
     "data": {
      "text/html": [
       "<div>\n",
       "<style scoped>\n",
       "    .dataframe tbody tr th:only-of-type {\n",
       "        vertical-align: middle;\n",
       "    }\n",
       "\n",
       "    .dataframe tbody tr th {\n",
       "        vertical-align: top;\n",
       "    }\n",
       "\n",
       "    .dataframe thead th {\n",
       "        text-align: right;\n",
       "    }\n",
       "</style>\n",
       "<table border=\"1\" class=\"dataframe\">\n",
       "  <thead>\n",
       "    <tr style=\"text-align: right;\">\n",
       "      <th></th>\n",
       "      <th>꿈</th>\n",
       "      <th>이름</th>\n",
       "      <th>생일</th>\n",
       "    </tr>\n",
       "  </thead>\n",
       "  <tbody>\n",
       "    <tr>\n",
       "      <th>0</th>\n",
       "      <td>[간호사]</td>\n",
       "      <td>고해인</td>\n",
       "      <td>2021-05-14 00:00:00</td>\n",
       "    </tr>\n",
       "    <tr>\n",
       "      <th>1</th>\n",
       "      <td>[가수]</td>\n",
       "      <td>김민지</td>\n",
       "      <td>2021-09-11 00:00:00</td>\n",
       "    </tr>\n",
       "    <tr>\n",
       "      <th>2</th>\n",
       "      <td>[사서]</td>\n",
       "      <td>김민희</td>\n",
       "      <td>2021-04-19 00:00:00</td>\n",
       "    </tr>\n",
       "    <tr>\n",
       "      <th>3</th>\n",
       "      <td>[국가정보요원]</td>\n",
       "      <td>김수경</td>\n",
       "      <td>2021-04-22 00:00:00</td>\n",
       "    </tr>\n",
       "    <tr>\n",
       "      <th>4</th>\n",
       "      <td>[요리사]</td>\n",
       "      <td>김수진</td>\n",
       "      <td>2021-02-08 00:00:00</td>\n",
       "    </tr>\n",
       "  </tbody>\n",
       "</table>\n",
       "</div>"
      ],
      "text/plain": [
       "          꿈   이름                   생일\n",
       "0     [간호사]  고해인  2021-05-14 00:00:00\n",
       "1      [가수]  김민지  2021-09-11 00:00:00\n",
       "2      [사서]  김민희  2021-04-19 00:00:00\n",
       "3  [국가정보요원]  김수경  2021-04-22 00:00:00\n",
       "4     [요리사]  김수진  2021-02-08 00:00:00"
      ]
     },
     "execution_count": 24,
     "metadata": {},
     "output_type": "execute_result"
    }
   ],
   "source": [
    "import pandas as pd\n",
    "\n",
    "raw = pd.read_excel('./raw.xlsx')\n",
    "extract_data = raw[['꿈','이름','생일']]\n",
    "extract_data.loc[:,'꿈'] = extract_data['꿈'].apply(lambda x:  x.split(\",\"))\n",
    "\n",
    "extract_data.head()"
   ]
  },
  {
   "cell_type": "code",
   "execution_count": 22,
   "metadata": {},
   "outputs": [],
   "source": []
  },
  {
   "cell_type": "code",
   "execution_count": 40,
   "metadata": {},
   "outputs": [],
   "source": [
    "parse = {}\n",
    "for i,dreams in enumerate(extract_data['꿈']):\n",
    "  for j in dreams:\n",
    "    key = j.strip()\n",
    "    if j in parse:\n",
    "      parse[key].append(extract_data['이름'][i])\n",
    "    else:\n",
    "      parse[key] = [extract_data['이름'][i]]\n",
    "\n",
    "\n",
    "\n",
    "result = pd.DataFrame.from_dict(parse,orient='index')\n",
    "result = result.transpose()\n",
    "result.describe()\n",
    "result.to_excel('./dream.xlsx')"
   ]
  },
  {
   "cell_type": "code",
   "execution_count": 46,
   "metadata": {},
   "outputs": [],
   "source": [
    "import json\n",
    "\n",
    "with open(\"dream.json\", 'w', encoding='utf-8-sig')as f:\n",
    "  json.dump(parse,f,ensure_ascii=False)"
   ]
  }
 ],
 "metadata": {
  "kernelspec": {
   "display_name": "Python 3",
   "language": "python",
   "name": "python3"
  },
  "language_info": {
   "codemirror_mode": {
    "name": "ipython",
    "version": 3
   },
   "file_extension": ".py",
   "mimetype": "text/x-python",
   "name": "python",
   "nbconvert_exporter": "python",
   "pygments_lexer": "ipython3",
   "version": "3.11.7"
  },
  "orig_nbformat": 4
 },
 "nbformat": 4,
 "nbformat_minor": 2
}
